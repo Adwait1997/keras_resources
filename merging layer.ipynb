{
 "cells": [
  {
   "cell_type": "code",
   "execution_count": 19,
   "metadata": {},
   "outputs": [
    {
     "name": "stdout",
     "output_type": "stream",
     "text": [
      "[[[ 0  1  2  3  4]\n",
      "  [ 5  6  7  8  9]]\n",
      "\n",
      " [[10 11 12 13 14]\n",
      "  [15 16 17 18 19]]]\n",
      "[[[20 21 22 23 24]]\n",
      "\n",
      " [[25 26 27 28 29]]]\n"
     ]
    }
   ],
   "source": [
    "#Concatenate layer\n",
    "#method\n",
    "\n",
    "import tensorflow as tf\n",
    "import numpy as np\n",
    "tf.keras.layers.Concatenate(axis=-1)\n",
    "\n",
    "#this concatenates all the tensors it receives as input into a single tensor. All tensors have same shape except the concatenation axis.\n",
    "\n",
    "#examples\n",
    "\n",
    "x = np.arange(20).reshape(2,2,5)\n",
    "print(x)\n",
    "\n",
    "y = np.arange(20, 30).reshape(2,1,5)\n",
    "print(y)"
   ]
  },
  {
   "cell_type": "code",
   "execution_count": 20,
   "metadata": {},
   "outputs": [
    {
     "data": {
      "text/plain": [
       "<tf.Tensor: id=4, shape=(2, 3, 5), dtype=int64, numpy=\n",
       "array([[[ 0,  1,  2,  3,  4],\n",
       "        [ 5,  6,  7,  8,  9],\n",
       "        [20, 21, 22, 23, 24]],\n",
       "\n",
       "       [[10, 11, 12, 13, 14],\n",
       "        [15, 16, 17, 18, 19],\n",
       "        [25, 26, 27, 28, 29]]])>"
      ]
     },
     "execution_count": 20,
     "metadata": {},
     "output_type": "execute_result"
    }
   ],
   "source": [
    "tf.keras.layers.Concatenate(axis=1)([x,y])\n",
    "\n"
   ]
  },
  {
   "cell_type": "code",
   "execution_count": 24,
   "metadata": {},
   "outputs": [
    {
     "data": {
      "text/plain": [
       "TensorShape([5, 16])"
      ]
     },
     "execution_count": 24,
     "metadata": {},
     "output_type": "execute_result"
    }
   ],
   "source": [
    "#concatenating two layers\n",
    "\n",
    "x1 = tf.keras.layers.Dense(8)(np.arange(10, dtype=np.float32).reshape(5,2))\n",
    "\n",
    "x2 = tf.keras.layers.Dense(8)(np.arange(10,20, dtype= np.float32).reshape(5,2))\n",
    "\n",
    "concatted = tf.keras.layers.Concatenate()([x1, x2])\n",
    "\n",
    "concatted.shape"
   ]
  },
  {
   "cell_type": "code",
   "execution_count": 32,
   "metadata": {},
   "outputs": [
    {
     "data": {
      "text/plain": [
       "[[0.5, 0.5], [0.5, 0.5]]"
      ]
     },
     "execution_count": 32,
     "metadata": {},
     "output_type": "execute_result"
    }
   ],
   "source": [
    "#Average layer\n",
    "\n",
    "#method\n",
    "tf.keras.layers.Average()\n",
    "\n",
    "#this layer averages a list of input tensors\n",
    "\n",
    "#examples\n",
    "\n",
    "x1=np.ones((2,2))\n",
    "\n",
    "x2=np.zeros((2,2))\n",
    "\n",
    "y = tf.keras.layers.Average()([x1,x2])\n",
    "\n",
    "y.numpy().tolist()"
   ]
  },
  {
   "cell_type": "code",
   "execution_count": 33,
   "metadata": {},
   "outputs": [
    {
     "data": {
      "text/plain": [
       "<tf.Tensor: id=135, shape=(5, 1), dtype=int64, numpy=\n",
       "array([[5],\n",
       "       [6],\n",
       "       [7],\n",
       "       [8],\n",
       "       [9]])>"
      ]
     },
     "execution_count": 33,
     "metadata": {},
     "output_type": "execute_result"
    }
   ],
   "source": [
    "#maximum \n",
    "\n",
    "tf.keras.layers.Maximum()\n",
    "\n",
    "#Layer that computes the maximum (element-wise) a list of inputs.\n",
    "\n",
    "tf.keras.layers.Maximum()([np.arange(5).reshape(5,1), np.arange(5,10).reshape(5,1)])\n",
    "\n"
   ]
  },
  {
   "cell_type": "code",
   "execution_count": 34,
   "metadata": {},
   "outputs": [
    {
     "data": {
      "text/plain": [
       "<tf.Tensor: id=139, shape=(5, 1), dtype=int64, numpy=\n",
       "array([[0],\n",
       "       [1],\n",
       "       [2],\n",
       "       [3],\n",
       "       [4]])>"
      ]
     },
     "execution_count": 34,
     "metadata": {},
     "output_type": "execute_result"
    }
   ],
   "source": [
    "#minimum \n",
    "\n",
    "tf.keras.layers.Minimum()\n",
    "\n",
    "#Layer that computes the minimum (element-wise) a list of inputs.\n",
    "\n",
    "tf.keras.layers.Minimum()([np.arange(5).reshape(5,1), np.arange(5,10).reshape(5,1)])"
   ]
  },
  {
   "cell_type": "code",
   "execution_count": 45,
   "metadata": {},
   "outputs": [
    {
     "name": "stdout",
     "output_type": "stream",
     "text": [
      "tf.Tensor(\n",
      "[[[ 0.3501898   0.64183414 -0.01137942 -2.322097  ]\n",
      "  [ 0.50621516 -1.1376328  -0.4489379  -0.8646163 ]\n",
      "  [-0.8479014   0.77535176 -1.1206237  -1.1515749 ]]\n",
      "\n",
      " [[-0.52113247  0.60995805  2.7456508  -1.1865522 ]\n",
      "  [-1.01085    -2.5956163  -0.02192307  1.1554599 ]\n",
      "  [ 1.3221468  -1.4113002  -2.1390765  -1.3381321 ]]], shape=(2, 3, 4), dtype=float32)\n",
      "(2, 3, 4)\n"
     ]
    }
   ],
   "source": [
    "#add\n",
    "\n",
    "tf.keras.layers.Add()\n",
    "\n",
    "#this layer adds a list of inputs\n",
    "\n",
    "input_shape = (2,3,4)\n",
    "\n",
    "x1= tf.random.normal(input_shape)\n",
    "\n",
    "x2= tf.random.normal(input_shape)\n",
    "\n",
    "y = tf.keras.layers.Add()([x1, x2])\n",
    "\n",
    "print(y)\n",
    "\n",
    "\n",
    "\n",
    "print(y.shape)"
   ]
  },
  {
   "cell_type": "code",
   "execution_count": 48,
   "metadata": {},
   "outputs": [
    {
     "name": "stdout",
     "output_type": "stream",
     "text": [
      "tf.Tensor(\n",
      "[[[ 1.2112538   0.67446566 -2.5346925  -1.7515049 ]\n",
      "  [ 1.8488966   3.1246588  -0.01496531  1.2114878 ]\n",
      "  [-3.45125     1.3030977   1.7980235   0.5965969 ]]\n",
      "\n",
      " [[ 1.5527847  -1.5846543  -0.15682012 -0.44893402]\n",
      "  [-0.72632515 -1.0324135  -0.17921448  1.4872167 ]\n",
      "  [-3.0548682   1.7272077   1.4765021   1.6520807 ]]], shape=(2, 3, 4), dtype=float32)\n",
      "(2, 3, 4)\n"
     ]
    }
   ],
   "source": [
    "#subtract\n",
    "#It takes as input a list of tensors of size 2, both of the same shape, and returns a single tensor, (inputs[0] - inputs[1]), also of the same shape.\n",
    "\n",
    "tf.keras.layers.Subtract()\n",
    "\n",
    "#this layer adds a list of inputs\n",
    "\n",
    "input_shape = (2,3,4)\n",
    "\n",
    "x1= tf.random.normal(input_shape)\n",
    "\n",
    "x2= tf.random.normal(input_shape)\n",
    "\n",
    "y = tf.keras.layers.Subtract()([x1, x2])\n",
    "\n",
    "print(y)\n",
    "\n",
    "\n",
    "print(y.shape)"
   ]
  },
  {
   "cell_type": "code",
   "execution_count": 49,
   "metadata": {},
   "outputs": [
    {
     "name": "stdout",
     "output_type": "stream",
     "text": [
      "tf.Tensor(\n",
      "[[[ 6.3286647e-02  2.0197420e+00  3.3912897e-01 -5.4825377e-01]\n",
      "  [ 1.1433582e-01  7.5813311e-01 -7.9880297e-01 -7.6574370e-02]\n",
      "  [-7.3313272e-01 -3.8183281e-01  7.7997053e-01  6.5150201e-01]]\n",
      "\n",
      " [[ 8.0015761e-01 -5.3068640e-04  3.3628875e-01  1.3814387e+00]\n",
      "  [ 8.3360267e-01 -1.6078916e+00 -5.6708292e-03  1.9228290e-01]\n",
      "  [ 6.9761056e-01 -4.9298251e-01  2.0696257e-01  9.0579860e-02]]], shape=(2, 3, 4), dtype=float32)\n",
      "(2, 3, 4)\n"
     ]
    }
   ],
   "source": [
    "#multiply\n",
    "#It takes as input a list of tensors of size 2, both of the same shape, and returns a single tensor, (inputs[0] - inputs[1]), also of the same shape.\n",
    "\n",
    "tf.keras.layers.Multiply()\n",
    "\n",
    "#this layer adds a list of inputs\n",
    "\n",
    "input_shape = (2,3,4)\n",
    "\n",
    "x1= tf.random.normal(input_shape)\n",
    "\n",
    "x2= tf.random.normal(input_shape)\n",
    "\n",
    "y = tf.keras.layers.Multiply()([x1, x2])\n",
    "\n",
    "print(y)\n",
    "\n",
    "\n",
    "print(y.shape)"
   ]
  },
  {
   "cell_type": "code",
   "execution_count": 64,
   "metadata": {},
   "outputs": [
    {
     "name": "stdout",
     "output_type": "stream",
     "text": [
      "tf.Tensor(\n",
      "[[0.09837128]\n",
      " [0.1584119 ]], shape=(2, 1), dtype=float32)\n",
      "(2, 1)\n"
     ]
    }
   ],
   "source": [
    "#dot product\n",
    "\n",
    "tf.keras.layers.Dot(axes=0, normalize=False)\n",
    "\n",
    "input_shape = (2,2)\n",
    "\n",
    "x1= tf.random.normal(input_shape)\n",
    "\n",
    "x2= tf.random.normal(input_shape)\n",
    "\n",
    "y = tf.keras.layers.Dot(axes=1)([x1, x2])\n",
    "\n",
    "\n",
    "\n",
    "\n",
    "print(y)\n",
    "\n",
    "print(y.shape)\n",
    "\n",
    "\n",
    "\n"
   ]
  },
  {
   "cell_type": "code",
   "execution_count": null,
   "metadata": {},
   "outputs": [],
   "source": []
  }
 ],
 "metadata": {
  "kernelspec": {
   "display_name": "Python 3",
   "language": "python",
   "name": "python3"
  },
  "language_info": {
   "codemirror_mode": {
    "name": "ipython",
    "version": 3
   },
   "file_extension": ".py",
   "mimetype": "text/x-python",
   "name": "python",
   "nbconvert_exporter": "python",
   "pygments_lexer": "ipython3",
   "version": "3.7.5"
  }
 },
 "nbformat": 4,
 "nbformat_minor": 2
}
