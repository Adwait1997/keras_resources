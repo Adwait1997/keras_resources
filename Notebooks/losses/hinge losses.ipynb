{
 "cells": [
  {
   "cell_type": "markdown",
   "metadata": {},
   "source": [
    "# Hinge Loss\n",
    "\n",
    "syntax: tf.keras.losses.Hinge(reduction=\"auto\", name=\"hinge\")\n",
    "    \n",
    "formula: loss = maximum(1-y_true*y_pred, 0)\n",
    "    \n",
    "here, the value of y_true can be -1 or 1. If binary labels are provided they can be converted into -1 or 1."
   ]
  },
  {
   "cell_type": "code",
   "execution_count": 5,
   "metadata": {},
   "outputs": [
    {
     "data": {
      "text/plain": [
       "1.3"
      ]
     },
     "execution_count": 5,
     "metadata": {},
     "output_type": "execute_result"
    }
   ],
   "source": [
    "import tensorflow as tf\n",
    "y_true = [[0., 1.], [0., 0.]]\n",
    "y_pred = [[0.6, 0.4], [0.4, 0.6]]\n",
    "h = tf.keras.losses.Hinge()\n",
    "h(y_true, y_pred).numpy()          "
   ]
  },
  {
   "cell_type": "markdown",
   "metadata": {},
   "source": [
    "# SquaredHinge class\n",
    "\n",
    "syntax: tf.keras.losses.SquaredHinge(reduction=\"auto\", name=\"squared_hinge\")\n",
    "\n",
    "Computes the squared hinge loss between y_true and y_pred.\n",
    "\n",
    "loss = square(maximum(1 - y_true * y_pred, 0))\n",
    "\n",
    "y_true values are expected to be -1 or 1. If binary (0 or 1) labels are provided we will convert them to -1 or 1."
   ]
  },
  {
   "cell_type": "code",
   "execution_count": 6,
   "metadata": {},
   "outputs": [
    {
     "data": {
      "text/plain": [
       "1.86"
      ]
     },
     "execution_count": 6,
     "metadata": {},
     "output_type": "execute_result"
    }
   ],
   "source": [
    "import tensorflow as tf\n",
    "y_true = [[0., 1.], [0., 0.]]\n",
    "y_pred = [[0.6, 0.4], [0.4, 0.6]]\n",
    "h = tf.keras.losses.SquaredHinge()\n",
    "h(y_true, y_pred).numpy()      "
   ]
  },
  {
   "cell_type": "markdown",
   "metadata": {},
   "source": [
    "# CategoricalHinge class\n",
    "\n",
    "syntax: tf.keras.losses.CategoricalHinge(reduction=\"auto\", name=\"categorical_hinge\")\n",
    "\n",
    "Computes the categorical hinge loss between y_true and y_pred.\n",
    "\n",
    "loss = maximum(neg - pos + 1, 0) \n",
    "\n",
    "where neg=maximum((1-y_true)*y_pred) \n",
    "\n",
    "and pos=sum(y_true*y_pred)"
   ]
  },
  {
   "cell_type": "code",
   "execution_count": 7,
   "metadata": {},
   "outputs": [
    {
     "data": {
      "text/plain": [
       "1.4000001"
      ]
     },
     "execution_count": 7,
     "metadata": {},
     "output_type": "execute_result"
    }
   ],
   "source": [
    "import tensorflow as tf\n",
    "y_true = [[0., 1.], [0., 0.]]\n",
    "y_pred = [[0.6, 0.4], [0.4, 0.6]]\n",
    "h = tf.keras.losses.CategoricalHinge()\n",
    "h(y_true, y_pred).numpy()      "
   ]
  },
  {
   "cell_type": "markdown",
   "metadata": {},
   "source": [
    "# hinge function\n",
    "\n",
    "syntax: tf.keras.losses.hinge(y_true, y_pred)\n",
    "\n",
    "1. Computes the hinge loss between y_true and y_pred.\n",
    "\n",
    "loss = mean(maximum(1 - y_true * y_pred, 0), axis=-1)"
   ]
  },
  {
   "cell_type": "code",
   "execution_count": 13,
   "metadata": {},
   "outputs": [],
   "source": [
    "#example\n",
    "import numpy as np\n",
    "y_true = np.random.choice([-1,1], size=(2,3))\n",
    "\n",
    "y_pred = np.random.random(size=(2,3))\n",
    "\n",
    "loss = tf.keras.losses.hinge(y_true, y_pred)\n",
    "\n",
    "assert loss.shape == (2,)\n",
    "\n",
    "assert np.array_equal(loss.numpy(), np.mean(np.maximum(1.-y_true*y_pred,0), axis=-1)"
   ]
  },
  {
   "cell_type": "markdown",
   "metadata": {},
   "source": [
    "# squared_hinge function\n",
    "\n",
    "syntax: tf.keras.losses.squared_hinge(y_true, y_pred)\n",
    "\n",
    "Computes the squared hinge loss between y_true and y_pred.\n",
    "\n",
    "loss = mean(square(maximum(1 - y_true * y_pred, 0)), axis=-1)"
   ]
  },
  {
   "cell_type": "code",
   "execution_count": 16,
   "metadata": {},
   "outputs": [],
   "source": [
    "#example\n",
    "import numpy as np\n",
    "y_true = np.random.choice([-1,1], size=(2,3))\n",
    "\n",
    "y_pred = np.random.random(size=(2,3))\n",
    "\n",
    "loss = tf.keras.losses.squared_hinge(y_true, y_pred)\n",
    "\n",
    "assert loss.shape == (2,)\n",
    "\n",
    "assert np.array_equal(loss.numpy(), np.mean(np.square(np.maximum(1. - y_true * y_pred, 0.)), axis=-1))"
   ]
  },
  {
   "cell_type": "markdown",
   "metadata": {},
   "source": [
    "# categorical_hinge function\n",
    "\n",
    "syntax: tf.keras.losses.categorical_hinge(y_true, y_pred)\n",
    "\n",
    "Computes the categorical hinge loss between y_true and y_pred.\n",
    "\n",
    "loss = maximum(neg - pos + 1, 0) where neg=maximum((1-y_true)*y_pred) and pos=sum(y_true*y_pred)"
   ]
  },
  {
   "cell_type": "code",
   "execution_count": 17,
   "metadata": {},
   "outputs": [],
   "source": [
    "import numpy as np\n",
    "\n",
    "y_true = np.random.randint(0, 3, size=(2,))\n",
    "y_true = tf.keras.utils.to_categorical(y_true, num_classes=3)\n",
    "y_pred = np.random.random(size=(2, 3))\n",
    "loss = tf.keras.losses.categorical_hinge(y_true, y_pred)\n",
    "assert loss.shape == (2,)\n",
    "pos = np.sum(y_true * y_pred, axis=-1)\n",
    "neg = np.amax((1. - y_true) * y_pred, axis=-1)\n",
    "assert np.array_equal(loss.numpy(), np.maximum(0., neg - pos + 1.))"
   ]
  },
  {
   "cell_type": "code",
   "execution_count": null,
   "metadata": {},
   "outputs": [],
   "source": []
  }
 ],
 "metadata": {
  "kernelspec": {
   "display_name": "Python 3",
   "language": "python",
   "name": "python3"
  },
  "language_info": {
   "codemirror_mode": {
    "name": "ipython",
    "version": 3
   },
   "file_extension": ".py",
   "mimetype": "text/x-python",
   "name": "python",
   "nbconvert_exporter": "python",
   "pygments_lexer": "ipython3",
   "version": "3.7.5"
  }
 },
 "nbformat": 4,
 "nbformat_minor": 2
}
