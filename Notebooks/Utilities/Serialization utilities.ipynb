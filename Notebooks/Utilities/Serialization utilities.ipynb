{
 "cells": [
  {
   "cell_type": "markdown",
   "metadata": {},
   "source": [
    "# CustomObject Scope\n",
    "\n",
    "syntax: tf.keras.utils.custom_object_scope(*args)\n",
    "    \n",
    "1. basically, CustomObjectScope allows you extract/ deserialize the any custom object used in methods like model_from_config and load_model.\n",
    "\n",
    "2. This method is used to update and clear the list of custom obects"
   ]
  },
  {
   "cell_type": "markdown",
   "metadata": {},
   "source": [
    "# get_custom_objects function\n",
    "\n",
    "syntax: tf.keras.utils.get_custom_objects()\n",
    "    \n",
    "1. This method gives us the direct access to the collection of custom objects.\n",
    "\n",
    "# Returns \n",
    "\n",
    "1. Global dictionary of names to classes (_GLOBAL_CUSTOM_OBJECTS).\n",
    "\n",
    "syntax: get_custom_objects()['objectname'] "
   ]
  },
  {
   "cell_type": "markdown",
   "metadata": {},
   "source": [
    "# register_keras_serializable funct\n",
    "\n",
    "syntax: tf.keras.utils.register_keras_serializable(package=\"Custom\", name=None)\n",
    "\n",
    "1. Registers an object with the Keras serialization framework.\n",
    "\n",
    "\n",
    "2. This decorator injects the decorated class or function into the Keras custom object dictionary, so that it can be serialized and deserialized without needing an entry in the user-provided custom object dict. It also injects a function that Keras will call to get the object's serializable string key.\n",
    "\n",
    "\n",
    "3. Note that to be serialized and deserialized, classes must implement the get_config() method. Functions do not have this requirement.\n",
    "\n",
    "\n",
    "4. The object will be registered under the key 'package>name' where name, defaults to the object name if not passed.\n",
    "\n",
    "\n",
    "# Arguments\n",
    "\n",
    "\n",
    "1. package: The package that this class belongs to.\n",
    "    \n",
    "\n",
    "2. name: The name to serialize this class under in this package. If None, the class' name will be used.\n"
   ]
  },
  {
   "cell_type": "markdown",
   "metadata": {},
   "source": [
    "# serialize_keras_object function\n",
    "\n",
    "syntax: tf.keras.utils.serialize_keras_object(instance)\n",
    "    \n",
    "Serialize a keras object into a JSON-compatible representation    "
   ]
  },
  {
   "cell_type": "markdown",
   "metadata": {},
   "source": [
    "# deserialize_keras_object function\n",
    "\n",
    "syntax: tf.keras.utils.deserialize_keras_object(identifier, module_objects=None, custom_objects=None, printable_module_name=\"object\")\n",
    "\n",
    "turns serialized object into an acual object"
   ]
  },
  {
   "cell_type": "code",
   "execution_count": null,
   "metadata": {},
   "outputs": [],
   "source": []
  }
 ],
 "metadata": {
  "kernelspec": {
   "display_name": "Python 3",
   "language": "python",
   "name": "python3"
  },
  "language_info": {
   "codemirror_mode": {
    "name": "ipython",
    "version": 3
   },
   "file_extension": ".py",
   "mimetype": "text/x-python",
   "name": "python",
   "nbconvert_exporter": "python",
   "pygments_lexer": "ipython3",
   "version": "3.7.5"
  }
 },
 "nbformat": 4,
 "nbformat_minor": 2
}
