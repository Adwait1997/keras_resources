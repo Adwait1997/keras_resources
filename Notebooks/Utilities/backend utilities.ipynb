{
 "cells": [
  {
   "cell_type": "markdown",
   "metadata": {},
   "source": [
    "# clear_session function\n",
    "\n",
    "syntax: tf.keras.backend.clear_session()\n",
    "    \n",
    "1. This function is used to avoid the clutter between the old and the new models created. It also relinquishes the memory that is consumed by the models. \n",
    "\n",
    "\n",
    "2. It basically resets keras' global state"
   ]
  },
  {
   "cell_type": "code",
   "execution_count": 3,
   "metadata": {},
   "outputs": [],
   "source": [
    "#example\n",
    "#without clear_session()\n",
    "import tensorflow as tf\n",
    "\n",
    "for _ in range(100):\n",
    "    \n",
    "    model = tf.keras.Sequential([tf.keras.layers.Dense(10) for _ in range(10)])\n",
    "    \n",
    "#with clear_session()\n",
    "for _ in range(100):\n",
    "    \n",
    "    tf.keras.backend.clear_session()\n",
    "    \n",
    "    model = tf.keras.Sequential([tf.keras.layers.Dense(10) for _ in range(10)])"
   ]
  },
  {
   "cell_type": "markdown",
   "metadata": {},
   "source": [
    "# floatx function\n",
    "\n",
    "syntax: tf.keras.backend.floatx()\n",
    "    \n",
    "# Returns\n",
    "\n",
    "String, the current default float type."
   ]
  },
  {
   "cell_type": "markdown",
   "metadata": {},
   "source": [
    "# set_floatx function\n",
    "\n",
    "syntax: tf.keras.backend.set_floatx(value)\n",
    "    \n",
    "Note: It is not recommended to set this to float16 for training, as this will likely cause numeric stability issues. Instead, mixed precision, which is using a mix of float16 and float32, can be used by calling tf.keras.mixed_precision.experimental.set_policy('mixed_float16'). See the mixed precision guide for details."
   ]
  },
  {
   "cell_type": "code",
   "execution_count": 8,
   "metadata": {},
   "outputs": [],
   "source": [
    "# examples\n",
    "import tensorflow as tf\n",
    "tf.keras.backend.floatx()\n",
    "tf.keras.backend.set_floatx('float64')\n",
    "tf.keras.backend.floatx()\n",
    "tf.keras.backend.set_floatx('float32')"
   ]
  },
  {
   "cell_type": "markdown",
   "metadata": {},
   "source": [
    "# image_data_format function\n",
    "\n",
    "syntax: tf.keras.backend.image_data_format()\n",
    "\n",
    "1. returns the default image data format convention."
   ]
  },
  {
   "cell_type": "code",
   "execution_count": 9,
   "metadata": {},
   "outputs": [
    {
     "data": {
      "text/plain": [
       "'channels_last'"
      ]
     },
     "execution_count": 9,
     "metadata": {},
     "output_type": "execute_result"
    }
   ],
   "source": [
    "#exampsle\n",
    "\n",
    "tf.keras.backend.image_data_format()"
   ]
  },
  {
   "cell_type": "markdown",
   "metadata": {},
   "source": [
    "# set_image_data_format function\n",
    "\n",
    "syntax: tf.keras.backend.set_image_data_format(data_format)\n",
    "\n",
    "1. Sets the value of the image data format convention."
   ]
  },
  {
   "cell_type": "markdown",
   "metadata": {},
   "source": [
    "# epsilon function\n",
    "\n",
    "syntax: tf.keras.backend.epsilon()\n",
    "\n",
    "1. Returns the value of the fuzz factor used in numeric expressions."
   ]
  },
  {
   "cell_type": "code",
   "execution_count": 13,
   "metadata": {},
   "outputs": [
    {
     "ename": "AttributeError",
     "evalue": "module 'tensorflow.python.keras.api._v2.keras.backend' has no attribute 'set_espilon'",
     "output_type": "error",
     "traceback": [
      "\u001b[0;31m---------------------------------------------------------------------------\u001b[0m",
      "\u001b[0;31mAttributeError\u001b[0m                            Traceback (most recent call last)",
      "\u001b[0;32m<ipython-input-13-2fee3ab7020a>\u001b[0m in \u001b[0;36m<module>\u001b[0;34m\u001b[0m\n\u001b[1;32m      3\u001b[0m \u001b[0mtf\u001b[0m\u001b[0;34m.\u001b[0m\u001b[0mkeras\u001b[0m\u001b[0;34m.\u001b[0m\u001b[0mbackend\u001b[0m\u001b[0;34m.\u001b[0m\u001b[0mepsilon\u001b[0m\u001b[0;34m(\u001b[0m\u001b[0;34m)\u001b[0m\u001b[0;34m\u001b[0m\u001b[0;34m\u001b[0m\u001b[0m\n\u001b[1;32m      4\u001b[0m \u001b[0;34m\u001b[0m\u001b[0m\n\u001b[0;32m----> 5\u001b[0;31m \u001b[0mtf\u001b[0m\u001b[0;34m.\u001b[0m\u001b[0mkeras\u001b[0m\u001b[0;34m.\u001b[0m\u001b[0mbackend\u001b[0m\u001b[0;34m.\u001b[0m\u001b[0mset_espilon\u001b[0m\u001b[0;34m(\u001b[0m\u001b[0;36m1e-5\u001b[0m\u001b[0;34m)\u001b[0m\u001b[0;34m\u001b[0m\u001b[0;34m\u001b[0m\u001b[0m\n\u001b[0m",
      "\u001b[0;31mAttributeError\u001b[0m: module 'tensorflow.python.keras.api._v2.keras.backend' has no attribute 'set_espilon'"
     ]
    }
   ],
   "source": [
    "#examples\n",
    "\n",
    "tf.keras.backend.epsilon()\n",
    "\n",
    "tf.keras.backend.set_espilon(1e-5)"
   ]
  },
  {
   "cell_type": "markdown",
   "metadata": {},
   "source": [
    "# is_keras_tensor \n",
    "\n",
    "syntax: tf.keras.backend.is_keras_tensor(x)\n",
    "\n",
    "1. Returns whether x is a Keras tensor.\n",
    "\n",
    "2. A \"Keras tensor\" is a tensor that was returned by a Keras layer, (Layer class) or by Input.\n",
    "\n",
    "# placeholder function\n",
    "\n",
    "tf.keras.backend.placeholder(shape)\n",
    "\n",
    "1. to check whether the value passed is a placeholder or not"
   ]
  },
  {
   "cell_type": "markdown",
   "metadata": {},
   "source": [
    "# get_uid function\n",
    "\n",
    "synatx: tf.keras.backend.get_uid(prefix=\"\")\n",
    "\n",
    "1. Associates a string prefix with an integer counter in a TensorFlow graph."
   ]
  },
  {
   "cell_type": "markdown",
   "metadata": {},
   "source": [
    "# rnn function\n",
    "\n",
    "syntax tf.keras.backend.rnn(\n",
    "    step_function,\n",
    "    inputs,\n",
    "    initial_states,\n",
    "    go_backwards=False,\n",
    "    mask=None,\n",
    "    constants=None,\n",
    "    unroll=False,\n",
    "    input_length=None,\n",
    "    time_major=False,\n",
    "    zero_output_for_mask=False,\n",
    ")\n",
    "\n",
    "1. Iterates over the time dimension of a tensor.\n",
    "\n",
    "# Arguments\n",
    "\n",
    "1. step_function: RNN step function. Args; input; Tensor with shape (samples, ...) (no time dimension), representing input for the batch of samples at a certain time step. states; List of tensors. Returns; output; Tensor with shape (samples, output_dim) (no time dimension). new_states; List of tensors, same length and shapes as 'states'. The first state in the list must be the output tensor at the previous timestep.\n",
    "    \n",
    "    \n",
    "2. inputs: Tensor of temporal data of shape (samples, time, ...) (at least 3D), or nested tensors, and each of which has shape (samples, time, ...).\n",
    "    \n",
    "    \n",
    "3. initial_states: Tensor with shape (samples, state_size) (no time dimension), containing the initial values for the states used in the step function. In the case that state_size is in a nested shape, the shape of initial_states will also follow the nested structure.\n",
    "    \n",
    "    \n",
    "4. go_backwards: Boolean. If True, do the iteration over the time dimension in reverse order and return the reversed sequence.\n",
    "    \n",
    "    \n",
    "5. mask: Binary tensor with shape (samples, time, 1), with a zero for every element that is masked.\n",
    "    \n",
    "    \n",
    "6. constants: List of constant values passed at each step.\n",
    "\n",
    "    \n",
    "7. unroll: Whether to unroll the RNN or to use a symbolic while_loop.\n",
    "    \n",
    "    \n",
    "8. input_length: An integer or a 1-D Tensor, depending on whether the time dimension is fixed-length or not. In case of variable length input, it is used for masking in case there's no mask specified.\n",
    "    \n",
    "    \n",
    "9. time_major: Boolean. If true, the inputs and outputs will be in shape (timesteps, batch, ...), whereas in the False case, it will be (batch, timesteps, ...). Using time_major = True is a bit more efficient because it avoids transposes at the beginning and end of the RNN calculation. However, most TensorFlow data is batch-major, so by default this function accepts input and emits output in batch-major form.\n",
    "    \n",
    "    \n",
    "10. zero_output_for_mask: Boolean. If True, the output for masked timestep will be zeros, whereas in the False case, output from previous timestep is returned.\n",
    "\n",
    "\n",
    "\n",
    "# Returns\n",
    "\n",
    "A tuple, (last_output, outputs, new_states). last_output: the latest output of the rnn, of shape (samples, ...) outputs: tensor with shape (samples, time, ...) where each entry outputs[s, t] is the output of the step function at time t for sample s. new_states: list of tensors, latest states returned by the step function, of shape (samples, ...)."
   ]
  },
  {
   "cell_type": "code",
   "execution_count": null,
   "metadata": {},
   "outputs": [],
   "source": []
  }
 ],
 "metadata": {
  "kernelspec": {
   "display_name": "Python 3",
   "language": "python",
   "name": "python3"
  },
  "language_info": {
   "codemirror_mode": {
    "name": "ipython",
    "version": 3
   },
   "file_extension": ".py",
   "mimetype": "text/x-python",
   "name": "python",
   "nbconvert_exporter": "python",
   "pygments_lexer": "ipython3",
   "version": "3.7.5"
  }
 },
 "nbformat": 4,
 "nbformat_minor": 2
}
