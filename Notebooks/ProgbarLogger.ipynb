{
 "cells": [
  {
   "cell_type": "code",
   "execution_count": null,
   "metadata": {},
   "outputs": [],
   "source": [
    "#ProgbarLogger class\n",
    "\n",
    "tf.keras.callbacks.ProgbarLogger(count_mode=\"samples\", stateful_metrics=None)\n",
    "\n",
    "#Callback that prints metrics to stdout.\n",
    "\n",
    "#Arguments\n",
    "\"\"\"\n",
    "    count_mode: One of \"steps\" or \"samples\". Whether the progress bar should count samples seen or steps (batches) seen.\n",
    "    stateful_metrics: Iterable of string names of metrics that should not be averaged over an epoch. Metrics in this list will be logged as-is. All others will be averaged over time (e.g. loss, etc). If not provided, defaults to the Model's metrics.\n",
    "\n",
    "Raises\n",
    "\n",
    "    ValueError: In case of invalid count_mode.\n",
    "\"\"\""
   ]
  },
  {
   "cell_type": "code",
   "execution_count": null,
   "metadata": {},
   "outputs": [],
   "source": [
    "#CSVLogger class\n",
    "\n",
    "tf.keras.callbacks.CSVLogger(filename, separator=\",\", append=False)\n",
    "\n",
    "#Callback that streams epoch results to a CSV file.\n",
    "\n",
    "#Supports all values that can be represented as a string, including 1D iterables such as np.ndarray.\n",
    "\n",
    "#Arguments\n",
    "\"\"\"\n",
    "    filename: Filename of the CSV file, e.g. 'run/log.csv'.\n",
    "    separator: String used to separate elements in the CSV file.\n",
    "    append: Boolean. True: append if file exists (useful for continuing training). False: overwrite existing file.\n",
    "\"\"\"\n",
    "\n"
   ]
  },
  {
   "cell_type": "code",
   "execution_count": null,
   "metadata": {},
   "outputs": [],
   "source": [
    "\n",
    "#TerminateOnNaN class\n",
    "\n",
    "tf.keras.callbacks.TerminateOnNaN()\n",
    "\n",
    "#Callback that terminates training when a NaN loss is encountered."
   ]
  }
 ],
 "metadata": {
  "kernelspec": {
   "display_name": "Python 3",
   "language": "python",
   "name": "python3"
  },
  "language_info": {
   "codemirror_mode": {
    "name": "ipython",
    "version": 3
   },
   "file_extension": ".py",
   "mimetype": "text/x-python",
   "name": "python",
   "nbconvert_exporter": "python",
   "pygments_lexer": "ipython3",
   "version": "3.7.5"
  }
 },
 "nbformat": 4,
 "nbformat_minor": 2
}
