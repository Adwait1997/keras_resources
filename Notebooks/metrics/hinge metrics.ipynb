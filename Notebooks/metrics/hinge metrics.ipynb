{
 "cells": [
  {
   "cell_type": "markdown",
   "metadata": {},
   "source": [
    "# What is Hinge loss?\n",
    "\n",
    "1. Hinge loss is a loss function used for training classifiers.\n",
    "\n",
    "2. It's most notably used with SVMs\n",
    "\n",
    "3. for y_true(t=+/-1) and classifier score (y_pred), the hinge loss is given by \n",
    "\n",
    "**l(y_pred) = max(0,1-t*y_pred)**\n",
    "\n",
    "**Conditions for Hinge loss**\n",
    "\n",
    "1. When t and y have the same sign (meaning y predicts the right class) and | y | ≥ 1, the hinge loss l(y)=0. \n",
    "\n",
    "\n",
    "2. When t and y have opposite sign, l(y) increases linearly with y, and similarly if |y|<1, even if it has same sign(correct prediction, but not enough margin)\n",
    "\n",
    "Note: y in above conditions is y_pred"
   ]
  },
  {
   "cell_type": "markdown",
   "metadata": {},
   "source": [
    "# Hinge metrics\n",
    "\n",
    "\n",
    "syntax: tf.keras.metrics.Hinge(name=\"hinge\", dtype=None)\n",
    "    \n",
    "1. Computes the hinge metric between y_true and y_pred.\n",
    "\n",
    "\n",
    "2. y_true values are expected to be -1 or 1. If binary (0 or 1) labels are provided we will convert them to -1 or 1.\n",
    "\n",
    "# Arguments\n",
    "\n",
    "1. name: (Optional) string name of the metric instance.\n",
    "    \n",
    "    \n",
    "2. dtype: (Optional) data type of the metric result."
   ]
  },
  {
   "cell_type": "code",
   "execution_count": 9,
   "metadata": {},
   "outputs": [
    {
     "data": {
      "text/plain": [
       "1.3"
      ]
     },
     "execution_count": 9,
     "metadata": {},
     "output_type": "execute_result"
    }
   ],
   "source": [
    "# examples\n",
    "import tensorflow as tf\n",
    "m = tf.keras.metrics.Hinge()\n",
    "\n",
    "m.update_state([[0,1], [0,0]], [[0.6,0.4],[0.4,0.6]])\n",
    "\n",
    "m.result().numpy()\n"
   ]
  },
  {
   "cell_type": "markdown",
   "metadata": {},
   "source": [
    "# SquaredHinge class\n",
    "\n",
    "syntax: tf.keras.metrics.SquaredHinge(name=\"squared_hinge\", dtype=None)\n",
    "\n",
    "1. Computes the squared hinge metric between y_true and y_pred.\n",
    "\n",
    "\n",
    "2. y_true values are expected to be -1 or 1. If binary (0 or 1) labels are provided we will convert them to -1 or 1.\n",
    "\n",
    "\n",
    "# Arguments\n",
    "\n",
    "1. name: (Optional) string name of the metric instance.\n",
    "    \n",
    "    \n",
    "2. dtype: (Optional) data type of the metric result.\n"
   ]
  },
  {
   "cell_type": "code",
   "execution_count": 8,
   "metadata": {},
   "outputs": [
    {
     "data": {
      "text/plain": [
       "1.26"
      ]
     },
     "execution_count": 8,
     "metadata": {},
     "output_type": "execute_result"
    }
   ],
   "source": [
    "# examples\n",
    "import tensorflow as tf\n",
    "m = tf.keras.metrics.SquaredHinge()\n",
    "\n",
    "m.update_state([[0,1], [0,1]], [[0.6,0.4],[0.4,0.6]])\n",
    "\n",
    "m.result().numpy()"
   ]
  },
  {
   "cell_type": "markdown",
   "metadata": {},
   "source": [
    "# CategoricalHinge class\n",
    "\n",
    "syntax: tf.keras.metrics.CategoricalHinge(name=\"categorical_hinge\", dtype=None)\n",
    "\n",
    "\n",
    "1. Computes the categorical hinge metric between y_true and y_pred.\n",
    "\n",
    "\n",
    "# Arguments\n",
    "\n",
    "1. name: (Optional) string name of the metric instance.\n",
    "    \n",
    "    \n",
    "2. dtype: (Optional) data type of the metric result."
   ]
  },
  {
   "cell_type": "code",
   "execution_count": 10,
   "metadata": {},
   "outputs": [
    {
     "data": {
      "text/plain": [
       "1.0"
      ]
     },
     "execution_count": 10,
     "metadata": {},
     "output_type": "execute_result"
    }
   ],
   "source": [
    "# examples\n",
    "import tensorflow as tf\n",
    "m = tf.keras.metrics.CategoricalHinge()\n",
    "\n",
    "m.update_state([[0,1], [0,1]], [[0.6,0.4],[0.4,0.6]])\n",
    "\n",
    "m.result().numpy()"
   ]
  },
  {
   "cell_type": "code",
   "execution_count": null,
   "metadata": {},
   "outputs": [],
   "source": []
  }
 ],
 "metadata": {
  "kernelspec": {
   "display_name": "Python 3",
   "language": "python",
   "name": "python3"
  },
  "language_info": {
   "codemirror_mode": {
    "name": "ipython",
    "version": 3
   },
   "file_extension": ".py",
   "mimetype": "text/x-python",
   "name": "python",
   "nbconvert_exporter": "python",
   "pygments_lexer": "ipython3",
   "version": "3.7.5"
  }
 },
 "nbformat": 4,
 "nbformat_minor": 2
}
