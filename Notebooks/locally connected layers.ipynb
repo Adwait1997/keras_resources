{
 "cells": [
  {
   "cell_type": "code",
   "execution_count": 5,
   "metadata": {},
   "outputs": [
    {
     "ename": "SyntaxError",
     "evalue": "positional argument follows keyword argument (<ipython-input-5-e1b69d91354a>, line 5)",
     "output_type": "error",
     "traceback": [
      "\u001b[0;36m  File \u001b[0;32m\"<ipython-input-5-e1b69d91354a>\"\u001b[0;36m, line \u001b[0;32m5\u001b[0m\n\u001b[0;31m    tf.keras.layers.LocallyConnected1D(filters=3, kernel_size, strides=1, padding=\"valid\", data_format=None, activation=None, use_bias=True, kerenel_initializer=\"glorot_initializer\", bias_initializer=\"zeros\", kernel_regularizer=None, activity_regularizer=None, kernel_constraint=None, bias_constraint=None, implementation=1)\u001b[0m\n\u001b[0m                                                 ^\u001b[0m\n\u001b[0;31mSyntaxError\u001b[0m\u001b[0;31m:\u001b[0m positional argument follows keyword argument\n"
     ]
    }
   ],
   "source": [
    "#locallyconnected1D\n",
    "\n",
    "import tensorflow as tf\n",
    "\n",
    "tf.keras.layers.LocallyConnected1D(filters=3, kernel_size, strides=1, padding=\"valid\", data_format=None, activation=None, use_bias=True, kerenel_initializer=\"glorot_initializer\", bias_initializer=\"zeros\", kernel_regularizer=None, activity_regularizer=None, kernel_constraint=None, bias_constraint=None, implementation=1)\n",
    "\n",
    "#Notes\n",
    "\n",
    "\"\"\"1\n",
    "1. This layer performs similar operation to that of the Conv layer except it doesn't share the weights.\n",
    "2. different filters are applied to the input\n",
    "\"\"\"\n",
    "\n",
    "#Arguments\n",
    "\"\"\"\n",
    "1. filters: the dimensions of the output space [int]\n",
    "2. kernel_size: [int/ tuple/ list] length of 1D convolution window\n",
    "3. strides: [int/ tuple/ list] specifying the stride length\n",
    "4. padding: adding zeros. two modes: valid and same\n",
    "5. data_format: [string] two modes: channel first - (batch, channels, length) and channel_last- (batch, length, channel). by default it will be channel_last\n",
    "\n",
    "6. activation: activation function to be used. Nothing is applied if not specified\n",
    "7. use_bias: [boolean] whether the bias vector is added.\n",
    "8. implementation: it has 3 modes. 1,2,3.\n",
    "\n",
    "###implementation modes###\n",
    "\n",
    "1 loops over input spatial locations to perform the forward pass. It is memory-efficient but performs a lot of (small) ops.\n",
    "\n",
    "2 stores layer weights in a dense but sparsely-populated 2D matrix and implements the forward pass as a single matrix-multiply. It uses a lot of RAM but performs few (large) ops.\n",
    "\n",
    "3 stores layer weights in a sparse tensor and implements the forward pass as a single sparse matrix-multiply. - How to choose: - 1: large, dense models, 2: small models, 3: large, sparse models,\n",
    "\n",
    "where \"large\" stands for large input/output activations (i.e. many filters, input_filters, large input_size, output_size), and \"sparse\" stands for few connections between inputs and outputs, i.e. small ratio filters * input_filters * kernel_size / (input_size * strides), where inputs to and outputs of the layer are assumed to have shapes (input_size, input_filters), (output_size, filters) respectively.\n",
    "\n",
    "It is recommended to benchmark each in the setting of interest to pick the most efficient one (in terms of speed and memory usage). Correct choice of implementation can lead to dramatic speed improvements (e.g. 50X), potentially at the expense of RAM.\n",
    "\n",
    "Also, only padding=\"valid\" is supported by implementation=1.\n",
    "\n",
    "\"\"\"\n",
    "\"\"\"\n",
    "Input shape\n",
    "\n",
    "3D tensor with shape: (batch_size, steps, input_dim)\n",
    "\n",
    "Output shape\n",
    "\n",
    "3D tensor with shape: (batch_size, new_steps, filters) steps value might have changed due to padding or strides.\n",
    "\n",
    "\"\"\""
   ]
  },
  {
   "cell_type": "code",
   "execution_count": 12,
   "metadata": {},
   "outputs": [
    {
     "data": {
      "text/plain": [
       "(None, 8, 64)"
      ]
     },
     "execution_count": 12,
     "metadata": {},
     "output_type": "execute_result"
    }
   ],
   "source": [
    "#Example\n",
    "\n",
    "import tensorflow as tf\n",
    "\n",
    "from tensorflow.keras.layers import LocallyConnected1D\n",
    "\n",
    "model = tf.keras.Sequential()\n",
    "\n",
    "model.add(LocallyConnected1D(64, 3, input_shape=(10, 32)))\n",
    "\n",
    "model.output_shape"
   ]
  },
  {
   "cell_type": "code",
   "execution_count": null,
   "metadata": {},
   "outputs": [],
   "source": [
    "#locallyConnected2D\n",
    "\n",
    "tf.keras.layers.LocallyConnected2D(\n",
    "    filters,\n",
    "    kernel_size,\n",
    "    strides=(1, 1),\n",
    "    padding=\"valid\",\n",
    "    data_format=None,\n",
    "    activation=None,\n",
    "    use_bias=True,\n",
    "    kernel_initializer=\"glorot_uniform\",\n",
    "    bias_initializer=\"zeros\",\n",
    "    kernel_regularizer=None,\n",
    "    bias_regularizer=None,\n",
    "    activity_regularizer=None,\n",
    "    kernel_constraint=None,\n",
    "    bias_constraint=None,\n",
    "    implementation=1,\n",
    "    **kwargs\n",
    ")\n",
    "\n",
    "\n",
    "#Arguments\n",
    "\n",
    "\"\"\"\n",
    "kernel_size: An integer or tuple/list of 2 integers, specifying the width and height of the 2D convolution window. Can be a single integer to specify the same value for all spatial dimensions.\n",
    "\n",
    "strides: An integer or tuple/list of 2 integers, specifying the strides of the convolution along the width and height. Can be a single integer to specify the same value for all spatial dimensions.\n",
    "\n",
    "implementation: implementation mode, either 1, 2, or 3. 1 loops over input spatial locations to perform the forward pass. It is memory-efficient but performs a lot of (small) ops.\n",
    "\n",
    "2 stores layer weights in a dense but sparsely-populated 2D matrix and implements the forward pass as a single matrix-multiply. It uses a lot of RAM but performs few (large) ops.\n",
    "\n",
    "3 stores layer weights in a sparse tensor and implements the forward pass as a single sparse matrix-multiply. - How to choose: - 1: large, dense models, 2: small models, 3: large, sparse models,\n",
    "\n",
    "where \"large\" stands for large input/output activations (i.e. many filters, input_filters, large np.prod(input_size), np.prod(output_size)), and \"sparse\" stands for few connections between inputs and outputs, i.e. small ratio filters * input_filters * np.prod(kernel_size) / (np.prod(input_size) * np.prod(strides)), where inputs to and outputs of the layer are assumed to have shapes input_size + (input_filters,), output_size + (filters,) respectively.\n",
    "\n",
    "It is recommended to benchmark each in the setting of interest to pick the most efficient one (in terms of speed and memory usage). Correct choice of implementation can lead to dramatic speed improvements (e.g. 50X), potentially at the expense of RAM.\n",
    "\n",
    "Also, only padding=\"valid\" is supported by implementation=1.\n",
    "\"\"\"\n",
    "\n",
    "\"\"\"\n",
    "Input shape\n",
    "\n",
    "4D tensor with shape: (samples, channels, rows, cols) if data_format='channels_first' or 4D tensor with shape: (samples, rows, cols, channels) if data_format='channels_last'.\n",
    "\n",
    "Output shape\n",
    "\n",
    "4D tensor with shape: (samples, filters, new_rows, new_cols) if data_format='channels_first' or 4D tensor with shape: (samples, new_rows, new_cols, filters) if data_format='channels_last'. rows and cols values might have changed due to padding.\n",
    "\n",
    "\"\"\""
   ]
  }
 ],
 "metadata": {
  "kernelspec": {
   "display_name": "Python 3",
   "language": "python",
   "name": "python3"
  },
  "language_info": {
   "codemirror_mode": {
    "name": "ipython",
    "version": 3
   },
   "file_extension": ".py",
   "mimetype": "text/x-python",
   "name": "python",
   "nbconvert_exporter": "python",
   "pygments_lexer": "ipython3",
   "version": "3.7.5"
  }
 },
 "nbformat": 4,
 "nbformat_minor": 2
}
