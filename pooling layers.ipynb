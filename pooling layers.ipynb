{
 "cells": [
  {
   "cell_type": "code",
   "execution_count": 16,
   "metadata": {},
   "outputs": [
    {
     "data": {
      "text/plain": [
       "\"\\ninput shape\\n\\n    If data_format='channels_last': 3D tensor with shape (batch_size, steps, features).\\n    If data_format='channels_first': 3D tensor with shape (batch_size, features, steps).\\n\\nOutput shape\\n\\n    If data_format='channels_last': 3D tensor with shape (batch_size, downsampled_steps, features).\\n    If data_format='channels_first': 3D tensor with shape (batch_size, features, downsampled_steps).\\n\\n\\n\""
      ]
     },
     "execution_count": 16,
     "metadata": {},
     "output_type": "execute_result"
    }
   ],
   "source": [
    "#MaxPooling1D\n",
    "import tensorflow as tf\n",
    "tf.keras.layers.MaxPooling1D(pool_size=2, strides=None, padding=\"valid\", data_format=\"channels_last\")\n",
    "\n",
    "#this layer is mainly used for downsampling the input by taking the maximum value defined by the pool_size.\n",
    "#output_shape = (input_shape - pool_size+1)/strides\n",
    "\n",
    "#The resulting output shape when using the \"same\" padding option is: output_shape = input_shape / strides\n",
    "\n",
    "#example\n",
    "\n",
    "x=tf.constant([1.,2.,3.,4.,5., 6.])\n",
    "x=tf.reshape(x, [1,6,1])\n",
    "\n",
    "layer=tf.keras.layers.MaxPooling1D(pool_size=2, strides=1, padding='valid')\n",
    "output = layer(x)\n",
    "output\n",
    "\n",
    "#here, output_shape = (5-2+1)/2=2\n",
    "\n",
    "\n",
    "#arguments\n",
    "\"\"\"\n",
    "pool_size=[integer] this is the size of max pooling window\n",
    "strides = [integer] this specifies by how much does the pooling window should move for each pooling step\n",
    "padding=One of \"valid\" or \"same\" (case-insensitive). \"valid\" means no padding. \"same\" results in padding evenly to the left/right or up/down of the input such that output has the same height/width dimension as the input.\n",
    "data_format: A string, one of channels_last (default) or channels_first. The ordering of the dimensions in the inputs. channels_last corresponds to inputs with shape (batch, steps, features) while channels_first corresponds to inputs with shape (batch, features, steps).\n",
    "\"\"\"\n",
    "\n",
    "\n",
    "\"\"\"\n",
    "input shape\n",
    "\n",
    "    If data_format='channels_last': 3D tensor with shape (batch_size, steps, features).\n",
    "    If data_format='channels_first': 3D tensor with shape (batch_size, features, steps).\n",
    "\n",
    "Output shape\n",
    "\n",
    "    If data_format='channels_last': 3D tensor with shape (batch_size, downsampled_steps, features).\n",
    "    If data_format='channels_first': 3D tensor with shape (batch_size, features, downsampled_steps).\n",
    "\n",
    "\n",
    "\"\"\""
   ]
  },
  {
   "cell_type": "code",
   "execution_count": 25,
   "metadata": {},
   "outputs": [
    {
     "data": {
      "text/plain": [
       "\"\\nInput shape\\n\\n    If data_format='channels_last': 4D tensor with shape (batch_size, rows, cols, channels).\\n    If data_format='channels_first': 4D tensor with shape (batch_size, channels, rows, cols).\\n\\nOutput shape\\n\\n    If data_format='channels_last': 4D tensor with shape (batch_size, pooled_rows, pooled_cols, channels).\\n    If data_format='channels_first': 4D tensor with shape (batch_size, channels, pooled_rows, pooled_cols).\\n\\n\""
      ]
     },
     "execution_count": 25,
     "metadata": {},
     "output_type": "execute_result"
    }
   ],
   "source": [
    "#MaxPooling2D layer\n",
    "tf.keras.layers.MaxPooling2D(pool_size=(2, 2), strides=None, padding=\"valid\", data_format=None)\n",
    "\n",
    "x = tf.constant([[1., 2., 3.], [4., 5., 6.], [7., 8., 9.]])\n",
    "x = tf.reshape(x, [1,3,3,1])\n",
    "\n",
    "layer= tf.keras.layers.MaxPooling2D(pool_size=(2, 2), strides=(1,1), padding=\"valid\")\n",
    "\n",
    "output = layer(x)\n",
    "output\n",
    "\n",
    "#arguments\n",
    "\"\"\"\n",
    "pool_size: integer or tuple of 2 integers, window size over which to take the maximum. (2, 2) will take the max value over a 2x2 pooling window. If only one integer is specified, the same window length will be used for both dimensions.\n",
    "data_format: A string, one of channels_last (default) or channels_first. The ordering of the dimensions in the inputs. channels_last corresponds to inputs with shape (batch, height, width, channels) while channels_first corresponds to inputs with shape (batch, channels, height, width).\n",
    "\n",
    "\"\"\"\n",
    "\"\"\"\n",
    "Input shape\n",
    "\n",
    "    If data_format='channels_last': 4D tensor with shape (batch_size, rows, cols, channels).\n",
    "    If data_format='channels_first': 4D tensor with shape (batch_size, channels, rows, cols).\n",
    "\n",
    "Output shape\n",
    "\n",
    "    If data_format='channels_last': 4D tensor with shape (batch_size, pooled_rows, pooled_cols, channels).\n",
    "    If data_format='channels_first': 4D tensor with shape (batch_size, channels, pooled_rows, pooled_cols).\n",
    "\n",
    "\"\"\""
   ]
  },
  {
   "cell_type": "code",
   "execution_count": 28,
   "metadata": {},
   "outputs": [
    {
     "data": {
      "text/plain": [
       "\"\\nInput shape\\n\\n    If data_format='channels_last': 5D tensor with shape: (batch_size, spatial_dim1, spatial_dim2, spatial_dim3, channels)\\n    If data_format='channels_first': 5D tensor with shape: (batch_size, channels, spatial_dim1, spatial_dim2, spatial_dim3)\\n\\nOutput shape\\n\\n    If data_format='channels_last': 5D tensor with shape: (batch_size, pooled_dim1, pooled_dim2, pooled_dim3, channels)\\n    If data_format='channels_first': 5D tensor with shape: (batch_size, channels, pooled_dim1, pooled_dim2, pooled_dim3)\\n\\n\\n\""
      ]
     },
     "execution_count": 28,
     "metadata": {},
     "output_type": "execute_result"
    }
   ],
   "source": [
    "#MaxPooling3D layer\n",
    "tf.keras.layers.MaxPooling3D(pool_size=(2, 2, 2), strides=None, padding=\"valid\", data_format=None)\n",
    "\n",
    "#arguments\n",
    "\"\"\"\n",
    "pool_size: Tuple of 3 integers, factors by which to downscale (dim1, dim2, dim3). (2, 2, 2) will halve the size of the 3D input in each dimension.\n",
    "data_format: A string, one of channels_last (default) or channels_first. The ordering of the dimensions in the inputs. channels_last corresponds to inputs with shape (batch, spatial_dim1, spatial_dim2, spatial_dim3, channels) while channels_first corresponds to inputs with shape (batch, channels, spatial_dim1, spatial_dim2, spatial_dim3). \n",
    "\"\"\"\n",
    "\n",
    "\"\"\"\n",
    "Input shape\n",
    "\n",
    "    If data_format='channels_last': 5D tensor with shape: (batch_size, spatial_dim1, spatial_dim2, spatial_dim3, channels)\n",
    "    If data_format='channels_first': 5D tensor with shape: (batch_size, channels, spatial_dim1, spatial_dim2, spatial_dim3)\n",
    "\n",
    "Output shape\n",
    "\n",
    "    If data_format='channels_last': 5D tensor with shape: (batch_size, pooled_dim1, pooled_dim2, pooled_dim3, channels)\n",
    "    If data_format='channels_first': 5D tensor with shape: (batch_size, channels, pooled_dim1, pooled_dim2, pooled_dim3)\n",
    "\n",
    "\"\"\""
   ]
  },
  {
   "cell_type": "code",
   "execution_count": null,
   "metadata": {},
   "outputs": [],
   "source": [
    "#AvgPooling1d layer\n",
    "#this layer is used to calculate the average of the input to downsample the temporal data.\n",
    "\n",
    "#method\n",
    "tf.keras.layers.AveragePooling1D(pool_size=2, strides=None, padding=\"valid\",data_format=\"channel_last\")\n",
    "\n",
    "#arguments \n",
    "\"\"\"\n",
    "pool_size: Integer, size of the average pooling windows.\n",
    "strides = [integer] this specifies by how much does the pooling window should move for each pooling step\n",
    "padding=One of \"valid\" or \"same\" (case-insensitive). \"valid\" means no padding. \"same\" results in padding evenly to the left/right or up/down of the input such that output has the same height/width dimension as the input.\n",
    "data_format: A string, one of channels_last (default) or channels_first. The ordering of the dimensions in the inputs. channels_last corresponds to inputs with shape (batch, steps, features) while channels_first corresponds to inputs with shape (batch, features, steps).\n",
    "\"\"\"\n",
    "\n",
    "\"\"\"\n",
    "nput shape\n",
    "\n",
    "    If data_format='channels_last': 3D tensor with shape (batch_size, steps, features).\n",
    "    If data_format='channels_first': 3D tensor with shape (batch_size, features, steps).\n",
    "\n",
    "Output shape\n",
    "\n",
    "    If data_format='channels_last': 3D tensor with shape (batch_size, downsampled_steps, features).\n",
    "    If data_format='channels_first': 3D tensor with shape (batch_size, features, downsampled_steps).\n",
    "\n",
    "\"\"\""
   ]
  },
  {
   "cell_type": "code",
   "execution_count": 29,
   "metadata": {},
   "outputs": [
    {
     "ename": "ValueError",
     "evalue": "The `data_format` argument must be one of \"channels_first\", \"channels_last\". Received: channel_last",
     "output_type": "error",
     "traceback": [
      "\u001b[0;31m---------------------------------------------------------------------------\u001b[0m",
      "\u001b[0;31mValueError\u001b[0m                                Traceback (most recent call last)",
      "\u001b[0;32m<ipython-input-29-1fa29af3bd3b>\u001b[0m in \u001b[0;36m<module>\u001b[0;34m\u001b[0m\n\u001b[1;32m      1\u001b[0m \u001b[0;31m#avgpooling2D layer\u001b[0m\u001b[0;34m\u001b[0m\u001b[0;34m\u001b[0m\u001b[0;34m\u001b[0m\u001b[0m\n\u001b[1;32m      2\u001b[0m \u001b[0;31m#method\u001b[0m\u001b[0;34m\u001b[0m\u001b[0;34m\u001b[0m\u001b[0;34m\u001b[0m\u001b[0m\n\u001b[0;32m----> 3\u001b[0;31m \u001b[0mtf\u001b[0m\u001b[0;34m.\u001b[0m\u001b[0mkeras\u001b[0m\u001b[0;34m.\u001b[0m\u001b[0mlayers\u001b[0m\u001b[0;34m.\u001b[0m\u001b[0mAveragePooling2D\u001b[0m\u001b[0;34m(\u001b[0m\u001b[0mpool_size\u001b[0m\u001b[0;34m=\u001b[0m\u001b[0;34m(\u001b[0m\u001b[0;36m2\u001b[0m\u001b[0;34m,\u001b[0m\u001b[0;36m2\u001b[0m\u001b[0;34m)\u001b[0m\u001b[0;34m,\u001b[0m \u001b[0mstrides\u001b[0m\u001b[0;34m=\u001b[0m\u001b[0;32mNone\u001b[0m\u001b[0;34m,\u001b[0m \u001b[0mpadding\u001b[0m\u001b[0;34m=\u001b[0m\u001b[0;34m\"valid\"\u001b[0m\u001b[0;34m,\u001b[0m\u001b[0mdata_format\u001b[0m\u001b[0;34m=\u001b[0m\u001b[0;34m\"channel_last\"\u001b[0m\u001b[0;34m)\u001b[0m\u001b[0;34m\u001b[0m\u001b[0;34m\u001b[0m\u001b[0m\n\u001b[0m\u001b[1;32m      4\u001b[0m \u001b[0;34m\u001b[0m\u001b[0m\n\u001b[1;32m      5\u001b[0m \u001b[0;31m#arguments\u001b[0m\u001b[0;34m\u001b[0m\u001b[0;34m\u001b[0m\u001b[0;34m\u001b[0m\u001b[0m\n",
      "\u001b[0;32m/usr/local/lib/python3.7/site-packages/tensorflow/python/keras/layers/pooling.py\u001b[0m in \u001b[0;36m__init__\u001b[0;34m(self, pool_size, strides, padding, data_format, **kwargs)\u001b[0m\n\u001b[1;32m    376\u001b[0m         \u001b[0mnn\u001b[0m\u001b[0;34m.\u001b[0m\u001b[0mavg_pool\u001b[0m\u001b[0;34m,\u001b[0m\u001b[0;34m\u001b[0m\u001b[0;34m\u001b[0m\u001b[0m\n\u001b[1;32m    377\u001b[0m         \u001b[0mpool_size\u001b[0m\u001b[0;34m=\u001b[0m\u001b[0mpool_size\u001b[0m\u001b[0;34m,\u001b[0m \u001b[0mstrides\u001b[0m\u001b[0;34m=\u001b[0m\u001b[0mstrides\u001b[0m\u001b[0;34m,\u001b[0m\u001b[0;34m\u001b[0m\u001b[0;34m\u001b[0m\u001b[0m\n\u001b[0;32m--> 378\u001b[0;31m         padding=padding, data_format=data_format, **kwargs)\n\u001b[0m\u001b[1;32m    379\u001b[0m \u001b[0;34m\u001b[0m\u001b[0m\n\u001b[1;32m    380\u001b[0m \u001b[0;34m\u001b[0m\u001b[0m\n",
      "\u001b[0;32m/usr/local/lib/python3.7/site-packages/tensorflow/python/keras/layers/pooling.py\u001b[0m in \u001b[0;36m__init__\u001b[0;34m(self, pool_function, pool_size, strides, padding, data_format, name, **kwargs)\u001b[0m\n\u001b[1;32m    231\u001b[0m     \u001b[0mself\u001b[0m\u001b[0;34m.\u001b[0m\u001b[0mstrides\u001b[0m \u001b[0;34m=\u001b[0m \u001b[0mconv_utils\u001b[0m\u001b[0;34m.\u001b[0m\u001b[0mnormalize_tuple\u001b[0m\u001b[0;34m(\u001b[0m\u001b[0mstrides\u001b[0m\u001b[0;34m,\u001b[0m \u001b[0;36m2\u001b[0m\u001b[0;34m,\u001b[0m \u001b[0;34m'strides'\u001b[0m\u001b[0;34m)\u001b[0m\u001b[0;34m\u001b[0m\u001b[0;34m\u001b[0m\u001b[0m\n\u001b[1;32m    232\u001b[0m     \u001b[0mself\u001b[0m\u001b[0;34m.\u001b[0m\u001b[0mpadding\u001b[0m \u001b[0;34m=\u001b[0m \u001b[0mconv_utils\u001b[0m\u001b[0;34m.\u001b[0m\u001b[0mnormalize_padding\u001b[0m\u001b[0;34m(\u001b[0m\u001b[0mpadding\u001b[0m\u001b[0;34m)\u001b[0m\u001b[0;34m\u001b[0m\u001b[0;34m\u001b[0m\u001b[0m\n\u001b[0;32m--> 233\u001b[0;31m     \u001b[0mself\u001b[0m\u001b[0;34m.\u001b[0m\u001b[0mdata_format\u001b[0m \u001b[0;34m=\u001b[0m \u001b[0mconv_utils\u001b[0m\u001b[0;34m.\u001b[0m\u001b[0mnormalize_data_format\u001b[0m\u001b[0;34m(\u001b[0m\u001b[0mdata_format\u001b[0m\u001b[0;34m)\u001b[0m\u001b[0;34m\u001b[0m\u001b[0;34m\u001b[0m\u001b[0m\n\u001b[0m\u001b[1;32m    234\u001b[0m     \u001b[0mself\u001b[0m\u001b[0;34m.\u001b[0m\u001b[0minput_spec\u001b[0m \u001b[0;34m=\u001b[0m \u001b[0mInputSpec\u001b[0m\u001b[0;34m(\u001b[0m\u001b[0mndim\u001b[0m\u001b[0;34m=\u001b[0m\u001b[0;36m4\u001b[0m\u001b[0;34m)\u001b[0m\u001b[0;34m\u001b[0m\u001b[0;34m\u001b[0m\u001b[0m\n\u001b[1;32m    235\u001b[0m \u001b[0;34m\u001b[0m\u001b[0m\n",
      "\u001b[0;32m/usr/local/lib/python3.7/site-packages/tensorflow/python/keras/utils/conv_utils.py\u001b[0m in \u001b[0;36mnormalize_data_format\u001b[0;34m(value)\u001b[0m\n\u001b[1;32m    190\u001b[0m     raise ValueError('The `data_format` argument must be one of '\n\u001b[1;32m    191\u001b[0m                      \u001b[0;34m'\"channels_first\", \"channels_last\". Received: '\u001b[0m \u001b[0;34m+\u001b[0m\u001b[0;34m\u001b[0m\u001b[0;34m\u001b[0m\u001b[0m\n\u001b[0;32m--> 192\u001b[0;31m                      str(value))\n\u001b[0m\u001b[1;32m    193\u001b[0m   \u001b[0;32mreturn\u001b[0m \u001b[0mdata_format\u001b[0m\u001b[0;34m\u001b[0m\u001b[0;34m\u001b[0m\u001b[0m\n\u001b[1;32m    194\u001b[0m \u001b[0;34m\u001b[0m\u001b[0m\n",
      "\u001b[0;31mValueError\u001b[0m: The `data_format` argument must be one of \"channels_first\", \"channels_last\". Received: channel_last"
     ]
    }
   ],
   "source": [
    "#avgpooling2D layer\n",
    "#method\n",
    "tf.keras.layers.AveragePooling2D(pool_size=(2,2), strides=None, padding=\"valid\",data_format=\"channel_last\")\n",
    "\n",
    "#arguments\n",
    "\"\"\"\n",
    "pool_size: integer or tuple of 2 integers, factors by which to downscale (vertical, horizontal). (2, 2) will halve the input in both spatial dimension. If only one integer is specified, the same window length will be used for both dimensions.\n",
    "\n",
    "data_format: A string, one of channels_last (default) or channels_first. The ordering of the dimensions in the inputs. channels_last corresponds to inputs with shape (batch, height, width, channels) while channels_first corresponds to inputs with shape (batch, channels, height, width). \n",
    "\n",
    "\"\"\"\n",
    "\n",
    "\"\"\"\n",
    "Input shape\n",
    "\n",
    "    If data_format='channels_last': 4D tensor with shape (batch_size, rows, cols, channels).\n",
    "    If data_format='channels_first': 4D tensor with shape (batch_size, channels, rows, cols).\n",
    "\n",
    "Output shape\n",
    "\n",
    "    If data_format='channels_last': 4D tensor with shape (batch_size, pooled_rows, pooled_cols, channels).\n",
    "    If data_format='channels_first': 4D tensor with shape (batch_size, channels, pooled_rows, pooled_cols).\n",
    "\n",
    "\"\"\""
   ]
  },
  {
   "cell_type": "code",
   "execution_count": 30,
   "metadata": {},
   "outputs": [
    {
     "data": {
      "text/plain": [
       "\"\\nInput shape\\n\\n    If data_format='channels_last': 5D tensor with shape: (batch_size, spatial_dim1, spatial_dim2, spatial_dim3, channels)\\n    If data_format='channels_first': 5D tensor with shape: (batch_size, channels, spatial_dim1, spatial_dim2, spatial_dim3)\\n\\nOutput shape\\n\\n    If data_format='channels_last': 5D tensor with shape: (batch_size, pooled_dim1, pooled_dim2, pooled_dim3, channels)\\n    If data_format='channels_first': 5D tensor with shape: (batch_size, channels, pooled_dim1, pooled_dim2, pooled_dim3)\\n    \\n\""
      ]
     },
     "execution_count": 30,
     "metadata": {},
     "output_type": "execute_result"
    }
   ],
   "source": [
    "#averagepooling3D\n",
    "\n",
    "#method\n",
    "tf.keras.layers.AveragePooling3D(pool_size=(2, 2, 2), strides=None, padding=\"valid\", data_format=None)\n",
    "\n",
    "#arguments\n",
    "\"\"\"\n",
    "pool_size: tuple of 3 integers, factors by which to downscale (dim1, dim2, dim3). (2, 2, 2) will halve the size of the 3D input in each dimension.\n",
    "data_format: A string, one of channels_last (default) or channels_first. The ordering of the dimensions in the inputs. channels_last corresponds to inputs with shape (batch, spatial_dim1, spatial_dim2, spatial_dim3, channels) while channels_first corresponds to inputs with shape (batch, channels, spatial_dim1, spatial_dim2, spatial_dim3).\n",
    "\"\"\"\n",
    "\n",
    "\"\"\"\n",
    "Input shape\n",
    "\n",
    "    If data_format='channels_last': 5D tensor with shape: (batch_size, spatial_dim1, spatial_dim2, spatial_dim3, channels)\n",
    "    If data_format='channels_first': 5D tensor with shape: (batch_size, channels, spatial_dim1, spatial_dim2, spatial_dim3)\n",
    "\n",
    "Output shape\n",
    "\n",
    "    If data_format='channels_last': 5D tensor with shape: (batch_size, pooled_dim1, pooled_dim2, pooled_dim3, channels)\n",
    "    If data_format='channels_first': 5D tensor with shape: (batch_size, channels, pooled_dim1, pooled_dim2, pooled_dim3)\n",
    "    \n",
    "\"\"\""
   ]
  },
  {
   "cell_type": "code",
   "execution_count": 43,
   "metadata": {},
   "outputs": [
    {
     "data": {
      "text/plain": [
       "\"\\nInput shape\\n\\n    If data_format='channels_last': 3D tensor with shape: (batch_size, steps, features)\\n    If data_format='channels_first': 3D tensor with shape: (batch_size, features, steps)\\n\\nOutput shape\\n\\n2D tensor with shape (batch_size, features).\\n\\n\""
      ]
     },
     "execution_count": 43,
     "metadata": {},
     "output_type": "execute_result"
    }
   ],
   "source": [
    "#GlobalMaxPooling\n",
    "#This layer downsamples the input representation by taking the maximum value over the time dimension\n",
    "\n",
    "#Method\n",
    "tf.keras.layers.GlobalMaxPooling1D(data_format=\"channels_last\")\n",
    "\n",
    "#Arguments \n",
    "\n",
    "\"\"\"\n",
    "data_format: A string, one of channels_last (default) or channels_first. The ordering of the dimensions in the inputs. channels_last corresponds to inputs with shape (batch, steps, features) while channels_first corresponds to inputs with shape (batch, features, steps).\n",
    "\"\"\"\n",
    "x =tf.constant([[1.,2.,3.],[4.,5.,6.], [7.,8.,9.]])\n",
    "x = tf.reshape(x, [1,3,3])\n",
    "\n",
    "max_pool = tf.keras.layers.GlobalMaxPooling1D()\n",
    "\n",
    "max_pool(x)\n",
    "\n",
    "#arguments\n",
    "\n",
    "#data_format: A string, one of channels_last (default) or channels_first. The ordering of the dimensions in the inputs. channels_last corresponds to inputs with shape (batch, steps, features) while channels_first corresponds to inputs with shape (batch, features, steps).\n",
    "\n",
    "\"\"\"\n",
    "Input shape\n",
    "\n",
    "    If data_format='channels_last': 3D tensor with shape: (batch_size, steps, features)\n",
    "    If data_format='channels_first': 3D tensor with shape: (batch_size, features, steps)\n",
    "\n",
    "Output shape\n",
    "\n",
    "2D tensor with shape (batch_size, features).\n",
    "\n",
    "\"\"\""
   ]
  },
  {
   "cell_type": "code",
   "execution_count": 54,
   "metadata": {},
   "outputs": [
    {
     "data": {
      "text/plain": [
       "<tf.Tensor: id=159, shape=(1, 1), dtype=float32, numpy=array([[12.]], dtype=float32)>"
      ]
     },
     "execution_count": 54,
     "metadata": {},
     "output_type": "execute_result"
    }
   ],
   "source": [
    "#globalMaxpooling2D\n",
    "#method\n",
    "#global max pooling operation for spatial data\n",
    "\n",
    "tf.keras.layers.GlobalMaxPooling2D(data_format=None)\n",
    "\n",
    "x =tf.constant([[1.,2.,3.],[4.,5.,6.], [7.,8.,9.], [10.,11.,12.]])\n",
    "x = tf.reshape(x, [1,3,4,1])\n",
    "\n",
    "max_pool_2d = tf.keras.layers.GlobalMaxPooling2D()\n",
    "max_pool_2d(x)\n",
    "\n",
    "#arguments\n",
    "\"\"\"\n",
    "data_format: A string, one of channels_last (default) or channels_first. The ordering of the dimensions in the inputs. channels_last corresponds to inputs with shape (batch, height, width, channels) while channels_first corresponds to inputs with shape (batch, channels, height, width). \n",
    "\n",
    "\"\"\"\n",
    "\n",
    "\"\"\"\n",
    "Input shape\n",
    "\n",
    "    If data_format='channels_last': 4D tensor with shape (batch_size, rows, cols, channels).\n",
    "    If data_format='channels_first': 4D tensor with shape (batch_size, channels, rows, cols).\n",
    "\n",
    "Output shape\n",
    "\n",
    "2D tensor with shape (batch_size, channels).\n",
    "\n",
    "\"\"\""
   ]
  },
  {
   "cell_type": "code",
   "execution_count": 56,
   "metadata": {},
   "outputs": [
    {
     "data": {
      "text/plain": [
       "\"\\nInput shape\\n\\n    If data_format='channels_last': 5D tensor with shape: (batch_size, spatial_dim1, spatial_dim2, spatial_dim3, channels)\\n    If data_format='channels_first': 5D tensor with shape: (batch_size, channels, spatial_dim1, spatial_dim2, spatial_dim3)\\n\\nOutput shape\\n\\n2D tensor with shape (batch_size, channels).\\n\""
      ]
     },
     "execution_count": 56,
     "metadata": {},
     "output_type": "execute_result"
    }
   ],
   "source": [
    "#globalMaxPooling3D\n",
    "#method\n",
    "tf.keras.layers.GlobalMaxPooling3D(data_format=None)\n",
    "\n",
    "#Arguments\n",
    "\"\"\"\n",
    "data_format: A string, one of channels_last (default) or channels_first. The ordering of the dimensions in the inputs. channels_last corresponds to inputs with shape (batch, spatial_dim1, spatial_dim2, spatial_dim3, channels) while channels_first corresponds to inputs with shape (batch, channels, spatial_dim1, spatial_dim2, spatial_dim3). \n",
    "\n",
    "\"\"\"\n",
    "\n",
    "\"\"\"\n",
    "Input shape\n",
    "\n",
    "    If data_format='channels_last': 5D tensor with shape: (batch_size, spatial_dim1, spatial_dim2, spatial_dim3, channels)\n",
    "    If data_format='channels_first': 5D tensor with shape: (batch_size, channels, spatial_dim1, spatial_dim2, spatial_dim3)\n",
    "\n",
    "Output shape\n",
    "\n",
    "2D tensor with shape (batch_size, channels).\n",
    "\"\"\""
   ]
  },
  {
   "cell_type": "code",
   "execution_count": 58,
   "metadata": {},
   "outputs": [
    {
     "data": {
      "text/plain": [
       "\"\\nInput shape\\n\\n    If data_format='channels_last': 3D tensor with shape: (batch_size, steps, features)\\n    If data_format='channels_first': 3D tensor with shape: (batch_size, features, steps)\\n\\nOutput shape\\n\\n2D tensor with shape (batch_size, features).\\n\\n\""
      ]
     },
     "execution_count": 58,
     "metadata": {},
     "output_type": "execute_result"
    }
   ],
   "source": [
    "#GlobalAvgPooling1D\n",
    "tf.keras.layers.GlobalAveragePooling1D(data_format=\"channels_last\")\n",
    "\n",
    "#Global average pooling operation for temporal data.\n",
    "#arguments\n",
    "\n",
    "\"\"\"\n",
    "data_format: A string, one of channels_last (default) or channels_first. The ordering of the dimensions in the inputs. channels_last corresponds to inputs with shape (batch, steps, features) while channels_first corresponds to inputs with shape (batch, features, steps).\n",
    "\"\"\"\n",
    "\n",
    "\"\"\"\n",
    "Input shape\n",
    "\n",
    "    If data_format='channels_last': 3D tensor with shape: (batch_size, steps, features)\n",
    "    If data_format='channels_first': 3D tensor with shape: (batch_size, features, steps)\n",
    "\n",
    "Output shape\n",
    "\n",
    "2D tensor with shape (batch_size, features).\n",
    "\n",
    "\"\"\""
   ]
  },
  {
   "cell_type": "code",
   "execution_count": 59,
   "metadata": {},
   "outputs": [
    {
     "data": {
      "text/plain": [
       "<tensorflow.python.keras.layers.pooling.GlobalAveragePooling2D at 0x131aa6110>"
      ]
     },
     "execution_count": 59,
     "metadata": {},
     "output_type": "execute_result"
    }
   ],
   "source": [
    "#globalAvgPooling2D\n",
    "tf.keras.layers.GlobalAveragePooling2D(data_format=None)\n",
    "\n",
    "\n",
    "#Arguments\n",
    "\"\"\"\n",
    "Arguments\n",
    "\n",
    "data_format: A string, one of channels_last (default) or channels_first. The ordering of the dimensions in the inputs. channels_last corresponds to inputs with shape (batch, height, width, channels) while channels_first corresponds to inputs with shape (batch, channels, height, width).\n",
    "\n",
    "\"\"\"\n",
    "\n",
    "\"\"\"\n",
    "Input shape\n",
    "\n",
    "    If data_format='channels_last': 4D tensor with shape (batch_size, rows, cols, channels).\n",
    "    If data_format='channels_first': 4D tensor with shape (batch_size, channels, rows, cols).\n",
    "\n",
    "Output shape\n",
    "\n",
    "2D tensor with shape (batch_size, channels).\n",
    "\n",
    "\"\"\"\n"
   ]
  },
  {
   "cell_type": "code",
   "execution_count": 60,
   "metadata": {},
   "outputs": [
    {
     "data": {
      "text/plain": [
       "<tensorflow.python.keras.layers.pooling.GlobalAveragePooling3D at 0x131aa66d0>"
      ]
     },
     "execution_count": 60,
     "metadata": {},
     "output_type": "execute_result"
    }
   ],
   "source": [
    "#globalAveragePooling3D\n",
    "tf.keras.layers.GlobalAveragePooling3D(data_format=None)\n",
    "\n",
    "#Argements\n",
    "\"\"\"\n",
    "data_format: A string, one of channels_last (default) or channels_first. The ordering of the dimensions in the inputs. channels_last corresponds to inputs with shape (batch, spatial_dim1, spatial_dim2, spatial_dim3, channels) while channels_first corresponds to inputs with shape (batch, channels, spatial_dim1, spatial_dim2, spatial_dim3)\n",
    "\n",
    "\"\"\"\n",
    "\n",
    "\"\"\"\n",
    "Input shape\n",
    "\n",
    "    If data_format='channels_last': 5D tensor with shape: (batch_size, spatial_dim1, spatial_dim2, spatial_dim3, channels)\n",
    "    If data_format='channels_first': 5D tensor with shape: (batch_size, channels, spatial_dim1, spatial_dim2, spatial_dim3)\n",
    "\n",
    "Output shape\n",
    "\n",
    "2D tensor with shape (batch_size, channels).\n",
    "\n",
    "\"\"\""
   ]
  },
  {
   "cell_type": "code",
   "execution_count": null,
   "metadata": {},
   "outputs": [],
   "source": []
  }
 ],
 "metadata": {
  "kernelspec": {
   "display_name": "Python 3",
   "language": "python",
   "name": "python3"
  },
  "language_info": {
   "codemirror_mode": {
    "name": "ipython",
    "version": 3
   },
   "file_extension": ".py",
   "mimetype": "text/x-python",
   "name": "python",
   "nbconvert_exporter": "python",
   "pygments_lexer": "ipython3",
   "version": "3.7.5"
  }
 },
 "nbformat": 4,
 "nbformat_minor": 2
}
