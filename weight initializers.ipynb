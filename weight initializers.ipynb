{
 "cells": [
  {
   "cell_type": "code",
   "execution_count": 15,
   "metadata": {},
   "outputs": [],
   "source": [
    "from tensorflow.keras import layers\n",
    "from tensorflow.keras import initializers\n",
    "\n",
    "layer=  layers.Dense(64, kernel_initializer='random_normal', bias_initializer=initializers.Zeros())"
   ]
  },
  {
   "cell_type": "code",
   "execution_count": 16,
   "metadata": {},
   "outputs": [
    {
     "data": {
      "text/plain": [
       "<tensorflow.python.ops.init_ops_v2.RandomNormal at 0x125fbf150>"
      ]
     },
     "execution_count": 16,
     "metadata": {},
     "output_type": "execute_result"
    }
   ],
   "source": [
    "#RnadomNormal initializers\n",
    "#method \n",
    "#this initializer generates the tensor with the normal distribution\n",
    "import tensorflow as tf\n",
    "tf.keras.initializers.RandomNormal(mean=0.0, stddev=0.05, seed=None)\n",
    "\n",
    "#args\n",
    "#mean = a python scalar or a scalar tensor. to calculate the mean of random values\n",
    "#stddev =  stadard deviation of the random values to generate\n",
    "#seed = a python integer."
   ]
  },
  {
   "cell_type": "code",
   "execution_count": 17,
   "metadata": {},
   "outputs": [
    {
     "data": {
      "text/plain": [
       "<tensorflow.python.ops.init_ops_v2.RandomUniform at 0x125fbf910>"
      ]
     },
     "execution_count": 17,
     "metadata": {},
     "output_type": "execute_result"
    }
   ],
   "source": [
    "#random_uniform\n",
    "#method\n",
    "tf.keras.initializers.RandomUniform(minval=-0.05, maxval=0.05, seed=None)\n",
    "\n",
    "#args\n",
    "#minval = lower bound for the random numbers to generate\n",
    "#maxval - upper bound for the values to be generated\n"
   ]
  },
  {
   "cell_type": "code",
   "execution_count": 18,
   "metadata": {},
   "outputs": [
    {
     "data": {
      "text/plain": [
       "<tensorflow.python.ops.init_ops_v2.TruncatedNormal at 0x125fbfdd0>"
      ]
     },
     "execution_count": 18,
     "metadata": {},
     "output_type": "execute_result"
    }
   ],
   "source": [
    "#truncated_normal\n",
    "#tf.keras.initializers.TruncatedNormal\n",
    "#the values generated, though similar to that of random_normal, are discared if more than two standard deviations away from the mean.\n",
    "\n",
    "tf.keras.initializers.TruncatedNormal(mean=0.0, stddev=0.05)\n"
   ]
  },
  {
   "cell_type": "code",
   "execution_count": 21,
   "metadata": {},
   "outputs": [],
   "source": [
    "#zeros\n",
    "tf.keras.initializers.Zeros()\n",
    "#this generates tensors initialized to 0\n",
    "\n",
    "initializer = tf.keras.initializers.Zeros()\n",
    "layer = tf.keras.layers.Dense(3, kernel_initializer=initializer)"
   ]
  },
  {
   "cell_type": "code",
   "execution_count": 24,
   "metadata": {},
   "outputs": [],
   "source": [
    "#ones \n",
    "tf.keras.initializers.Ones()\n",
    "#this generates tensors initialized to 1\n",
    "\n",
    "initializer = tf.keras.initializers.Ones()\n",
    "layer = tf.keras.layers.Dense(3, kernel_initializer=initializer)"
   ]
  },
  {
   "cell_type": "code",
   "execution_count": 25,
   "metadata": {},
   "outputs": [
    {
     "data": {
      "text/plain": [
       "<tensorflow.python.ops.init_ops_v2.GlorotNormal at 0x125fc7a90>"
      ]
     },
     "execution_count": 25,
     "metadata": {},
     "output_type": "execute_result"
    }
   ],
   "source": [
    "#glorotNormal\n",
    "tf.keras.initializers.GlorotNormal(seed=None)\n",
    "#also called xavier normal initializer\n",
    "#this draws output from a truncated normal sidtribution centered on 0 with stddev = sqrt(2/(fan_in + fan_out))\n",
    "#where fan_in is number of input units in the weight tensor and fan_out is the number of output units in the weight tensor\n"
   ]
  },
  {
   "cell_type": "code",
   "execution_count": 27,
   "metadata": {},
   "outputs": [
    {
     "data": {
      "text/plain": [
       "<tensorflow.python.ops.init_ops_v2.GlorotUniform at 0x125fcb690>"
      ]
     },
     "execution_count": 27,
     "metadata": {},
     "output_type": "execute_result"
    }
   ],
   "source": [
    "#glorotuniform\n",
    "tf.keras.initializers.GlorotUniform(seed=None)\n",
    "#also called xavier uniform initializer\n",
    "#this draws samples from the unform distribution within [-limit, limit]\n",
    "#where limit = sqrt(6/(fan_in + fan_out))"
   ]
  },
  {
   "cell_type": "code",
   "execution_count": 30,
   "metadata": {},
   "outputs": [
    {
     "data": {
      "text/plain": [
       "<tensorflow.python.ops.init_ops_v2.Identity at 0x125fbbed0>"
      ]
     },
     "execution_count": 30,
     "metadata": {},
     "output_type": "execute_result"
    }
   ],
   "source": [
    "#identity\n",
    "tf.keras.initializers.Identity(gain=1.0)\n",
    "#this method is used to generate 2d identity matrices\n",
    "#args\n",
    "#gain: multiplicative factor to apply to the identity matrices\n"
   ]
  },
  {
   "cell_type": "code",
   "execution_count": 31,
   "metadata": {},
   "outputs": [
    {
     "data": {
      "text/plain": [
       "<tensorflow.python.ops.init_ops_v2.Orthogonal at 0x125fbb4d0>"
      ]
     },
     "execution_count": 31,
     "metadata": {},
     "output_type": "execute_result"
    }
   ],
   "source": [
    "#Orthogonal \n",
    "tf.keras.initializers.Orthogonal(gain = 1.0, seed =None)\n",
    "#this generated the orthogonal matrices\n",
    "#If the shape of the tensor to initialize is two-dimensional, it is initialized with an orthogonal matrix obtained from the QR decomposition of a matrix of random numbers drawn from a normal distribution. If the matrix has fewer rows than columns then the output will have orthogonal rows. Otherwise, the output will have orthogonal columns.\n",
    "#QR decomposition is obtaining an orthogonal and an upper triangular matrices from the given matrix\n",
    "#If the shape of the tensor to initialize is more than two-dimensional, a matrix of shape (shape[0] * ... * shape[n - 2], shape[n - 1]) is initialized, where n is the length of the shape vector. The matrix is subsequently reshaped to give a tensor of the desired shape."
   ]
  },
  {
   "cell_type": "code",
   "execution_count": 38,
   "metadata": {},
   "outputs": [
    {
     "data": {
      "text/plain": [
       "<tensorflow.python.ops.init_ops_v2.Constant at 0x125fbfd10>"
      ]
     },
     "execution_count": 38,
     "metadata": {},
     "output_type": "execute_result"
    }
   ],
   "source": [
    "#Constant\n",
    "tf.keras.initializers.Constant(value=0)\n",
    "#generated the tensor with constant values\n",
    "#only scalar values are allowed that must be convertible to dtype requested when calling the initializer\n",
    "\n",
    "#args\n",
    "#value- a python scalar"
   ]
  },
  {
   "cell_type": "code",
   "execution_count": 39,
   "metadata": {},
   "outputs": [
    {
     "data": {
      "text/plain": [
       "'\\nWith distribution=\"truncated_normal\" or \"untruncated_normal\", samples are drawn from a truncated/untruncated normal distribution with a mean of zero and a standard deviation (after truncation, if used) stddev = sqrt(scale / n), where n is:\\n\\n    number of input units in the weight tensor, if mode=\"fan_in\"\\n    number of output units, if mode=\"fan_out\"\\n    average of the numbers of input and output units, if mode=\"fan_avg\"\\n\\nWith distribution=\"uniform\", samples are drawn from a uniform distribution within [-limit, limit], where limit = sqrt(3 * scale / n).\\n\\n'"
      ]
     },
     "execution_count": 39,
     "metadata": {},
     "output_type": "execute_result"
    }
   ],
   "source": [
    "#VarianceScaling\n",
    "tf.keras.initializers.VarianceScaling(scale=1.0, mode='fan_in', distribution='truncated_normal', seed=None)\n",
    "#Initializer capable of adapting its scale to the shape of weights tensors.\n",
    "\"\"\"\n",
    "With distribution=\"truncated_normal\" or \"untruncated_normal\", samples are drawn from a truncated/untruncated normal distribution with a mean of zero and a standard deviation (after truncation, if used) stddev = sqrt(scale / n), where n is:\n",
    "\n",
    "    number of input units in the weight tensor, if mode=\"fan_in\"\n",
    "    number of output units, if mode=\"fan_out\"\n",
    "    average of the numbers of input and output units, if mode=\"fan_avg\"\n",
    "\n",
    "With distribution=\"uniform\", samples are drawn from a uniform distribution within [-limit, limit], where limit = sqrt(3 * scale / n).\n",
    "\n",
    "\"\"\"\n",
    "\n",
    "#args\n",
    "#scale - scaling factor\n",
    "#mode - fan_in, fan_ot, fan_avg\n",
    "#distribution - Random distribution to use. One of \"truncated_normal\", \"untruncated_normal\" and \"uniform\".\n",
    "\n"
   ]
  }
 ],
 "metadata": {
  "kernelspec": {
   "display_name": "Python 3",
   "language": "python",
   "name": "python3"
  },
  "language_info": {
   "codemirror_mode": {
    "name": "ipython",
    "version": 3
   },
   "file_extension": ".py",
   "mimetype": "text/x-python",
   "name": "python",
   "nbconvert_exporter": "python",
   "pygments_lexer": "ipython3",
   "version": "3.7.5"
  }
 },
 "nbformat": 4,
 "nbformat_minor": 2
}
