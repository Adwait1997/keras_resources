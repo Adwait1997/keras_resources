{
 "cells": [
  {
   "cell_type": "code",
   "execution_count": 16,
   "metadata": {},
   "outputs": [],
   "source": [
    "#layer weight constraints\n",
    "#the cnstraint classes from tge tf.keras.constraints allows deting constraints on the model parameters during training.\n",
    "\n",
    "#2 types of constraints\n",
    "\"\"\"\n",
    "kernel_constraint: for main weights matrix\n",
    "bias_constraint: for the bias\n",
    "\"\"\"\n",
    "from tensorflow.keras.constraints import max_norm\n",
    "from tensorflow.keras.layers import Dense\n",
    "model.add(Dense(64, kernel_constraint=max_norm(2.)))\n"
   ]
  },
  {
   "cell_type": "code",
   "execution_count": 22,
   "metadata": {},
   "outputs": [
    {
     "data": {
      "text/plain": [
       "<tensorflow.python.keras.constraints.MaxNorm at 0x12bb36c90>"
      ]
     },
     "execution_count": 22,
     "metadata": {},
     "output_type": "execute_result"
    }
   ],
   "source": [
    "#MaxNorm\n",
    "#constraints the incident weights to the hidden layer to have a maximum value.\n",
    "\n",
    "#method\n",
    "tensorflow.keras.constraints.MaxNorm(max_value=2, axis=0)\n",
    "#Arguments\n",
    "#max_value: the maximum norm value for the incoming weights. \n",
    "\n",
    "#axis: integer, axis along which to calculate weight norms. For instance, in a Dense layer the weight matrix has shape (input_dim, output_dim), set axis to 0 to constrain each weight vector of length (input_dim,). In a Conv2D layer with data_format=\"channels_last\", the weight tensor has shape (rows, cols, input_depth, output_depth), set axis to [0, 1, 2] to constrain the weights of each filter tensor of size (rows, cols, input_depth).\n"
   ]
  },
  {
   "cell_type": "code",
   "execution_count": 25,
   "metadata": {},
   "outputs": [],
   "source": [
    "#MaxMinNorm\n",
    "#tensorflow.keras.constraints.MinMaxNorm(min_value, max_value, rate, axis)\n",
    "\n",
    "#rate: rate for enforcing the constraint: weights will be rescaled to yield (1 - rate) * norm + rate * norm.clip(min_value, max_value). Effectively, this means that rate=1.0 stands for strict enforcement of the constraint, while rate<1.0 means that weights will be rescaled at each step to slowly move towards a value inside the desired interval. \n",
    "\n",
    "#axis: integer, axis along which to calculate weight norms. For instance, in a Dense layer the weight matrix has shape (input_dim, output_dim), set axis to 0 to constrain each weight vector of length (input_dim,). In a Conv2D layer with data_format=\"channels_last\", the weight tensor has shape (rows, cols, input_depth, output_depth), set axis to [0, 1, 2] to constrain the weights of each filter tensor of size (rows, cols, input_depth)."
   ]
  },
  {
   "cell_type": "code",
   "execution_count": 27,
   "metadata": {},
   "outputs": [
    {
     "data": {
      "text/plain": [
       "<tensorflow.python.keras.constraints.NonNeg at 0x10979f810>"
      ]
     },
     "execution_count": 27,
     "metadata": {},
     "output_type": "execute_result"
    }
   ],
   "source": [
    "#NonNeg \n",
    "#method \n",
    "tensorflow.keras.constraints.NonNeg()\n",
    "#constraints the weights to be non-negative"
   ]
  },
  {
   "cell_type": "code",
   "execution_count": 29,
   "metadata": {},
   "outputs": [
    {
     "data": {
      "text/plain": [
       "<tensorflow.python.keras.constraints.UnitNorm at 0x12bb520d0>"
      ]
     },
     "execution_count": 29,
     "metadata": {},
     "output_type": "execute_result"
    }
   ],
   "source": [
    "#UnitNorm\n",
    "#method\n",
    "tensorflow.keras.constraints.UnitNorm(axis=0)\n",
    "#cnstraints the weights to have unit norm"
   ]
  },
  {
   "cell_type": "code",
   "execution_count": 32,
   "metadata": {},
   "outputs": [
    {
     "ename": "AttributeError",
     "evalue": "module 'tensorflow.keras.constraints' has no attribute 'RadialConstraint'",
     "output_type": "error",
     "traceback": [
      "\u001b[0;31m---------------------------------------------------------------------------\u001b[0m",
      "\u001b[0;31mAttributeError\u001b[0m                            Traceback (most recent call last)",
      "\u001b[0;32m<ipython-input-32-a1c9154c129b>\u001b[0m in \u001b[0;36m<module>\u001b[0;34m\u001b[0m\n\u001b[1;32m      1\u001b[0m \u001b[0;31m#RadialConstraint\u001b[0m\u001b[0;34m\u001b[0m\u001b[0;34m\u001b[0m\u001b[0;34m\u001b[0m\u001b[0m\n\u001b[0;32m----> 2\u001b[0;31m \u001b[0mtensorflow\u001b[0m\u001b[0;34m.\u001b[0m\u001b[0mkeras\u001b[0m\u001b[0;34m.\u001b[0m\u001b[0mconstraints\u001b[0m\u001b[0;34m.\u001b[0m\u001b[0mRadialConstraint\u001b[0m\u001b[0;34m(\u001b[0m\u001b[0;34m)\u001b[0m\u001b[0;34m\u001b[0m\u001b[0;34m\u001b[0m\u001b[0m\n\u001b[0m\u001b[1;32m      3\u001b[0m \u001b[0;34m\u001b[0m\u001b[0m\n\u001b[1;32m      4\u001b[0m \u001b[0;31m#Constrains Conv2D kernel weights to be the same for each radius.\u001b[0m\u001b[0;34m\u001b[0m\u001b[0;34m\u001b[0m\u001b[0;34m\u001b[0m\u001b[0m\n",
      "\u001b[0;31mAttributeError\u001b[0m: module 'tensorflow.keras.constraints' has no attribute 'RadialConstraint'"
     ]
    }
   ],
   "source": [
    "#RadialConstraint\n",
    "tensorflow.keras.constraints.RadialConstraint()\n",
    "\n",
    "#Constrains Conv2D kernel weights to be the same for each radius.\n",
    "'''\n",
    "for eg,\n",
    "    kernel = [[v_00, v_01, v_02, v_03],\n",
    "              [v_10, v_11, v_12, v_13],\n",
    "              [v_20, v_21, v_22, v_23],\n",
    "              [v_30, v_31, v_32, v_33]]\n",
    "\n",
    "\n",
    "\n",
    "    kernel = [[v_11, v_11, v_11, v_11],\n",
    "              [v_11, v_33, v_33, v_11],\n",
    "              [v_11, v_33, v_33, v_11],\n",
    "              [v_11, v_11, v_11, v_11]]\n",
    "'''    \n",
    "\n",
    "\n",
    "#This constraint can be applied to any Conv2D layer version, including Conv2DTranspose and SeparableConv2D, and with either \"channels_last\" or \"channels_first\" data format. The method assumes the weight tensor is of shape (rows, cols, input_depth, output_depth)."
   ]
  },
  {
   "cell_type": "code",
   "execution_count": null,
   "metadata": {},
   "outputs": [],
   "source": []
  }
 ],
 "metadata": {
  "kernelspec": {
   "display_name": "Python 3",
   "language": "python",
   "name": "python3"
  },
  "language_info": {
   "codemirror_mode": {
    "name": "ipython",
    "version": 3
   },
   "file_extension": ".py",
   "mimetype": "text/x-python",
   "name": "python",
   "nbconvert_exporter": "python",
   "pygments_lexer": "ipython3",
   "version": "3.7.5"
  }
 },
 "nbformat": 4,
 "nbformat_minor": 2
}
